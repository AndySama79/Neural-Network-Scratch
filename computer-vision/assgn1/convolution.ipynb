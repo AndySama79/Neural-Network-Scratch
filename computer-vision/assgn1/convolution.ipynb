{
 "cells": [
  {
   "cell_type": "code",
   "execution_count": 107,
   "metadata": {},
   "outputs": [],
   "source": [
    "import cv2\n",
    "import os\n",
    "import matplotlib.pyplot as plt\n",
    "import numpy as np\n",
    "%matplotlib inline"
   ]
  },
  {
   "cell_type": "code",
   "execution_count": 108,
   "metadata": {},
   "outputs": [
    {
     "data": {
      "text/plain": [
       "['/home/schecter/Pictures/wallpaper/7898414.png',\n",
       " '/home/schecter/Pictures/wallpaper/3620923.jpg',\n",
       " '/home/schecter/Pictures/wallpaper/denji-chainsaw-man-5k-dark-background-5120x2880-8878.png',\n",
       " '/home/schecter/Pictures/wallpaper/wallpaperflare.com_wallpaper.jpg',\n",
       " '/home/schecter/Pictures/wallpaper/chainsaw-man-manga-series-3840x2743-8894.jpg',\n",
       " '/home/schecter/Pictures/wallpaper/wallpaperflare.com_wallpaper (1).jpg',\n",
       " '/home/schecter/Pictures/wallpaper/wp6942344-white-minimalist-wallpapers.jpg',\n",
       " '/home/schecter/Pictures/wallpaper/7898408.jpg',\n",
       " '/home/schecter/Pictures/wallpaper/wp6627196-abstract-4k-desktop-wallpapers.jpg',\n",
       " '/home/schecter/Pictures/wallpaper/wp5620298-demon-slayer-anime-hd-wallpapers.jpg',\n",
       " '/home/schecter/Pictures/wallpaper/wp4892382-4k-minimal-wallpapers.jpg',\n",
       " '/home/schecter/Pictures/wallpaper/wp9024514-minimalist-laptop-4k-wallpapers.jpg',\n",
       " '/home/schecter/Pictures/wallpaper/wp5073942-tanjirou-kamado-manga-wallpapers.jpg',\n",
       " '/home/schecter/Pictures/wallpaper/Chainsaw Man Wallpapers Backgrounds.jpg',\n",
       " '/home/schecter/Pictures/wallpaper/wp6437579-kimetsu-no-yaiba-desktop-wallpapers.jpg',\n",
       " '/home/schecter/Pictures/wallpaper/wp9024093-minimalist-laptop-4k-wallpapers.jpg',\n",
       " '/home/schecter/Pictures/wallpaper/wp2458357-sword-art-online-hd-wallpapers.jpg',\n",
       " '/home/schecter/Pictures/wallpaper/wp5026610-darth-vader-star-wars-art-wallpapers.jpg',\n",
       " '/home/schecter/Pictures/wallpaper/wp9413460-chainsaw-man-4k-wallpapers.jpg',\n",
       " '/home/schecter/Pictures/wallpaper/wp4546018-mountain-moon-nightscape-wallpapers.jpg',\n",
       " '/home/schecter/Pictures/wallpaper/wp9024286-minimalist-laptop-4k-wallpapers.jpg',\n",
       " '/home/schecter/Pictures/wallpaper/wp4885760-aesthetic-demon-slayer-computer-wallpapers.jpg',\n",
       " '/home/schecter/Pictures/wallpaper/wp9413618-chainsaw-man-4k-wallpapers.png',\n",
       " '/home/schecter/Pictures/wallpaper/wp5710628-minimal-desktop-4k-wallpapers.jpg',\n",
       " '/home/schecter/Pictures/wallpaper/6482840.jpg']"
      ]
     },
     "execution_count": 108,
     "metadata": {},
     "output_type": "execute_result"
    }
   ],
   "source": [
    "data_path = '/home/schecter/Pictures/wallpaper'\n",
    "file_paths = [os.path.join(data_path, fp) for fp in os.listdir(data_path)]\n",
    "file_paths"
   ]
  },
  {
   "cell_type": "code",
   "execution_count": 109,
   "metadata": {},
   "outputs": [
    {
     "data": {
      "image/png": "[encoded data removed]",
      "text/plain": [
       "<Figure size 640x480 with 1 Axes>"
      ]
     },
     "metadata": {},
     "output_type": "display_data"
    }
   ],
   "source": [
    "img = cv2.imread(file_paths[-1], cv2.COLOR_BGR2RGB)\n",
    "plt.imshow(img, cmap='gray')\n",
    "plt.axis('off')\n",
    "plt.show()"
   ]
  },
  {
   "cell_type": "code",
   "execution_count": 110,
   "metadata": {},
   "outputs": [
    {
     "name": "stdout",
     "output_type": "stream",
     "text": [
      "(2880, 5120, 3)\n"
     ]
    }
   ],
   "source": [
    "print(img.shape)"
   ]
  },
  {
   "cell_type": "code",
   "execution_count": 111,
   "metadata": {},
   "outputs": [
    {
     "data": {
      "image/png": "[encoded data removed]",
      "text/plain": [
       "<Figure size 640x480 with 1 Axes>"
      ]
     },
     "metadata": {},
     "output_type": "display_data"
    }
   ],
   "source": [
    "img = cv2.resize(img, (32, 32)) # resizing to save my laptop from burning\n",
    "plt.imshow(img)\n",
    "plt.axis('off')\n",
    "plt.show()"
   ]
  },
  {
   "cell_type": "code",
   "execution_count": 112,
   "metadata": {},
   "outputs": [
    {
     "data": {
      "text/plain": [
       "(32, 32, 3)"
      ]
     },
     "execution_count": 112,
     "metadata": {},
     "output_type": "execute_result"
    }
   ],
   "source": [
    "img.shape"
   ]
  },
  {
   "cell_type": "code",
   "execution_count": 113,
   "metadata": {},
   "outputs": [],
   "source": [
    "def add_padding(img, padding):\n",
    "    try:\n",
    "        height, width, channels = img.shape\n",
    "    except:\n",
    "        try:\n",
    "            height, width = img.shape # incase greyscale\n",
    "        except:\n",
    "            raise ValueError('Image shape is not valid')\n",
    "    # height, width, channels = img.shap\n",
    "        \n",
    "    # if type(pad_size) == tuple:\n",
    "    #     pad_height, pad_width = pad_size\n",
    "    # elif type(pad_size) == int:\n",
    "    #     pad_height, pad_width = pad_size, pad_size\n",
    "    # else:\n",
    "    #     pad_height, pad_width = 0, 0\n",
    "    pad_height, pad_width = padding\n",
    "\n",
    "    res_height, res_width = height + 2 * pad_height, width + 2 * pad_width\n",
    "\n",
    "    res = [[[0 for _ in range(channels)] for _ in range(res_width)] for _ in range(res_height)]\n",
    "    # print(res[pad_height:pad_height+height, pad_width:pad_width+width, :])# = img[:, :, :]\n",
    "    # res[pad_height:pad_height+height][pad_width:pad_width+width] = img[:][:][:]\n",
    "    for i in range(height):\n",
    "        for j in range(width):\n",
    "            res[i+pad_height][j+pad_width] = img[i][j]\n",
    "\n",
    "    return res"
   ]
  },
  {
   "cell_type": "code",
   "execution_count": 114,
   "metadata": {},
   "outputs": [],
   "source": [
    "def init(img, kernel, padding, stride):\n",
    "    if type(padding) == tuple:\n",
    "        pad_height, pad_width = padding\n",
    "    elif type(padding) == int:\n",
    "        pad_height, pad_width = padding, padding\n",
    "    else:\n",
    "        pad_height, pad_width = 0, 0\n",
    "\n",
    "    if type(stride) == tuple:\n",
    "        stride_height, stride_width = stride\n",
    "    elif type(stride) == int:\n",
    "        stride_height, stride_width = stride, stride\n",
    "    else:\n",
    "        stride_height, stride_width = 1, 1\n",
    "\n",
    "    res_height = (img.shape[0] - len(kernel) + 2 * pad_height) // stride_height + 1\n",
    "    res_width = (img.shape[1] - len(kernel[0]) + 2 * pad_width) // stride_width + 1\n",
    "\n",
    "    img = add_padding(img, (pad_height, pad_width))\n",
    "\n",
    "    return img, res_height, res_width, stride_height, stride_width"
   ]
  },
  {
   "cell_type": "code",
   "execution_count": 115,
   "metadata": {},
   "outputs": [
    {
     "data": {
      "text/plain": [
       "(34, 34, 3)"
      ]
     },
     "execution_count": 115,
     "metadata": {},
     "output_type": "execute_result"
    }
   ],
   "source": [
    "res = np.array(add_padding(img, (1, 1)))\n",
    "res.shape"
   ]
  },
  {
   "cell_type": "code",
   "execution_count": 116,
   "metadata": {},
   "outputs": [
    {
     "data": {
      "image/png": "[encoded data removed]",
      "text/plain": [
       "<Figure size 640x480 with 1 Axes>"
      ]
     },
     "metadata": {},
     "output_type": "display_data"
    }
   ],
   "source": [
    "plt.imshow(res)\n",
    "plt.axis('off')\n",
    "plt.show()"
   ]
  },
  {
   "cell_type": "code",
   "execution_count": 117,
   "metadata": {},
   "outputs": [],
   "source": [
    "def convolve(img, kernel, padding=0, stride=1):\n",
    "    img, res_height, res_width, stride_height, stride_width = init(img, kernel, padding, stride) # gives back the padded image\n",
    "    res = [[[0 for k in range(len(img[0][0]))] for j in range(res_width)] for i in range(res_height)]\n",
    "    \n",
    "    kernel_height = len(kernel)\n",
    "    kernel_width = len(kernel[0])\n",
    "\n",
    "    kernel = np.array(kernel)\n",
    "    sum_kernel = np.sum(kernel)\n",
    "    res = np.array(res)\n",
    "    img = np.array(img)\n",
    "\n",
    "    for k in range(img.shape[-1]):\n",
    "        for i in range(0, res_height):\n",
    "            for j in range(0, res_width):\n",
    "                id_x = i * stride_height\n",
    "                id_y = j * stride_width\n",
    "                patch = img[id_x:id_x+kernel_height, id_y:id_y+kernel_width, k]\n",
    "                # print(patch.shape, kernel.shape, (patch * kernel).shape)\n",
    "                res[i][j][k] = np.sum(patch * kernel) / sum_kernel\n",
    "    \n",
    "    return res"
   ]
  },
  {
   "cell_type": "code",
   "execution_count": 118,
   "metadata": {},
   "outputs": [
    {
     "data": {
      "text/plain": [
       "3"
      ]
     },
     "execution_count": 118,
     "metadata": {},
     "output_type": "execute_result"
    }
   ],
   "source": [
    "kernel = [[0.4, 0.6, 0.4], [0.6, 0.8, 0.6], [0.4, 0.6, 0.4]] # gaussian blur\n",
    "len(kernel[0])"
   ]
  },
  {
   "cell_type": "code",
   "execution_count": 119,
   "metadata": {},
   "outputs": [],
   "source": [
    "new_img = convolve(img, kernel, 1, 1)"
   ]
  },
  {
   "cell_type": "code",
   "execution_count": 120,
   "metadata": {},
   "outputs": [
    {
     "name": "stdout",
     "output_type": "stream",
     "text": [
      "32\n",
      "32\n"
     ]
    }
   ],
   "source": [
    "print(len(new_img))\n",
    "print(len(new_img[0]))"
   ]
  },
  {
   "cell_type": "code",
   "execution_count": 121,
   "metadata": {},
   "outputs": [
    {
     "data": {
      "image/png": "[encoded data removed]",
      "text/plain": [
       "<Figure size 640x480 with 1 Axes>"
      ]
     },
     "metadata": {},
     "output_type": "display_data"
    }
   ],
   "source": [
    "plt.imshow(new_img)\n",
    "plt.axis('off')\n",
    "plt.show()"
   ]
  },
  {
   "cell_type": "code",
   "execution_count": null,
   "metadata": {},
   "outputs": [],
   "source": []
  }
 ],
 "metadata": {
  "kernelspec": {
   "display_name": "pikachu",
   "language": "python",
   "name": "python3"
  },
  "language_info": {
   "codemirror_mode": {
    "name": "ipython",
    "version": 3
   },
   "file_extension": ".py",
   "mimetype": "text/x-python",
   "name": "python",
   "nbconvert_exporter": "python",
   "pygments_lexer": "ipython3",
   "version": "3.10.13"
  }
 },
 "nbformat": 4,
 "nbformat_minor": 2
}
